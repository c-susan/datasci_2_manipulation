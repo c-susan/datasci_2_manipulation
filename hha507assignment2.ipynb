{
  "nbformat": 4,
  "nbformat_minor": 0,
  "metadata": {
    "colab": {
      "provenance": [],
      "collapsed_sections": [
        "Sw5xmr1OphJ0",
        "Zjihmo-zwU1G"
      ],
      "authorship_tag": "ABX9TyOSWZDFI9NfibBrQGJq8y6m",
      "include_colab_link": true
    },
    "kernelspec": {
      "name": "python3",
      "display_name": "Python 3"
    },
    "language_info": {
      "name": "python"
    }
  },
  "cells": [
    {
      "cell_type": "markdown",
      "metadata": {
        "id": "view-in-github",
        "colab_type": "text"
      },
      "source": [
        "<a href=\"https://colab.research.google.com/github/c-susan/datasci_2_manipulation/blob/main/hha507assignment2.ipynb\" target=\"_parent\"><img src=\"https://colab.research.google.com/assets/colab-badge.svg\" alt=\"Open In Colab\"/></a>"
      ]
    },
    {
      "cell_type": "markdown",
      "source": [
        "# **Load Packages**"
      ],
      "metadata": {
        "id": "Sw5xmr1OphJ0"
      }
    },
    {
      "cell_type": "code",
      "execution_count": null,
      "metadata": {
        "id": "p5SnaJ3NpIIe"
      },
      "outputs": [],
      "source": [
        "import pandas as pd\n",
        "import re\n",
        "import numpy as np"
      ]
    },
    {
      "cell_type": "markdown",
      "source": [
        "# **Load Data**"
      ],
      "metadata": {
        "id": "DUrDVOP-plRY"
      }
    },
    {
      "cell_type": "code",
      "source": [
        "df = pd.read_csv('https://raw.githubusercontent.com/c-susan/datasci_2_manipulation/main/datasets/healthcare_data_cleaning.csv')\n",
        "df"
      ],
      "metadata": {
        "id": "zfh_uWj1pzmy"
      },
      "execution_count": null,
      "outputs": []
    },
    {
      "cell_type": "markdown",
      "source": [
        "### Dataframe Preview"
      ],
      "metadata": {
        "id": "Zjihmo-zwU1G"
      }
    },
    {
      "cell_type": "code",
      "source": [
        "df.sample(5)"
      ],
      "metadata": {
        "id": "oOR6SnvhwKFW"
      },
      "execution_count": null,
      "outputs": []
    },
    {
      "cell_type": "markdown",
      "source": [
        "## **Data Cleaning**"
      ],
      "metadata": {
        "id": "BNg9qnW_pz8-"
      }
    },
    {
      "cell_type": "markdown",
      "source": [
        " ### 1. Inspecting Data Shape and Size"
      ],
      "metadata": {
        "id": "q5yAfrXgkkxv"
      }
    },
    {
      "cell_type": "code",
      "source": [
        "# Check the size and shape of the DataFrame\n",
        "print(f'Number of rows: {df.shape[0]}')\n",
        "print(f'Number of columns: {df.shape[1]}')\n",
        "print(f'Total number of cells: {df.size}')"
      ],
      "metadata": {
        "id": "vh5bOmyokws0"
      },
      "execution_count": null,
      "outputs": []
    },
    {
      "cell_type": "markdown",
      "source": [
        "This dataset has 105,000 rows and 20 columns, with a total of 2,100,000 cells."
      ],
      "metadata": {
        "id": "jF4QK9u4oOWx"
      }
    },
    {
      "cell_type": "markdown",
      "source": [
        "### 2. Cleaning Column Names"
      ],
      "metadata": {
        "id": "O63lF9cyf5Iu"
      }
    },
    {
      "cell_type": "code",
      "source": [
        "# Removing white and irrevelant special characters.\n",
        "columnNames = list(df)\n",
        "df.columns = [name.strip().lower().replace(' ', '_').replace('(', '').replace(')', '') for name in columnNames]\n",
        "df"
      ],
      "metadata": {
        "id": "IZtl9avLqO8_"
      },
      "execution_count": null,
      "outputs": []
    },
    {
      "cell_type": "markdown",
      "source": [
        "### 3. Identifying and Handling Missing Values"
      ],
      "metadata": {
        "id": "Mr35t7fzfoiP"
      }
    },
    {
      "cell_type": "code",
      "source": [
        "# Replaces 'missing' data values with NaN.\n",
        "df = df.replace('missing', np.nan)\n",
        "df"
      ],
      "metadata": {
        "id": "WGhHx9jcp7xc"
      },
      "execution_count": null,
      "outputs": []
    },
    {
      "cell_type": "markdown",
      "source": [
        "### 4. Removing Duplicate Rows"
      ],
      "metadata": {
        "id": "wItmsanafu3C"
      }
    },
    {
      "cell_type": "code",
      "source": [
        "# Identify and remove duplicate rows\n",
        "df = df.drop_duplicates()\n",
        "df"
      ],
      "metadata": {
        "id": "BbMKyDGEfvLz",
        "colab": {
          "base_uri": "https://localhost:8080/",
          "height": 439
        },
        "outputId": "4db33653-5cad-40de-e199-f4476126b2a8"
      },
      "execution_count": 280,
      "outputs": [
        {
          "output_type": "execute_result",
          "data": {
            "text/plain": [
              "       patient_age  gender  city_of_residence state_of_residence  \\\n",
              "0               45   Other         West Brian           Kentucky   \n",
              "1               25  Female   East Jocelynfurt           Colorado   \n",
              "2               51   Other  South Lindseyland               Ohio   \n",
              "3               18  Female         Taylorfort       Pennsylvania   \n",
              "4               48  Female          Birdmouth            Montana   \n",
              "...            ...     ...                ...                ...   \n",
              "104994          53  Female      Michelleburgh       South Dakota   \n",
              "104995          74   Other       West Anthony           Oklahoma   \n",
              "104996          37    Male          Mckeetown               Utah   \n",
              "104997          51  Female   Lake Lisachester           Nebraska   \n",
              "104998         NaN  Female       Heidiborough                NaN   \n",
              "\n",
              "       has_insurance visited_last_month payment_method preferred_doctor  \\\n",
              "0                Yes                Yes      Insurance     Dr. Williams   \n",
              "1                 No                Yes           Card      Dr. Johnson   \n",
              "2                Yes                 No           Cash     Dr. Williams   \n",
              "3                Yes                NaN           Cash     Dr. Williams   \n",
              "4                 No                 No      Insurance        Dr. Brown   \n",
              "...              ...                ...            ...              ...   \n",
              "104994            No                 No           Card     Dr. Williams   \n",
              "104995           Yes                 No           Card     Dr. Williams   \n",
              "104996           Yes                 No           Cash        Dr. Jones   \n",
              "104997           Yes                Yes      Insurance     Dr. Williams   \n",
              "104998           Yes                 No           Cash        Dr. Smith   \n",
              "\n",
              "       disease_diagnosed medication_prescribed type_of_appointment  \\\n",
              "0                    Flu                 Med_E             General   \n",
              "1                    Flu                 Med_B          Specialist   \n",
              "2               Covid-19                 Med_D             General   \n",
              "3                    Flu                 Med_A             General   \n",
              "4                   None                 Med_C          Specialist   \n",
              "...                  ...                   ...                 ...   \n",
              "104994               Flu                 Med_B           Emergency   \n",
              "104995          Covid-19                 Med_E          Specialist   \n",
              "104996          Covid-19                 Med_C             General   \n",
              "104997           Allergy                 Med_D           Follow-Up   \n",
              "104998          Covid-19                 Med_A           Follow-Up   \n",
              "\n",
              "       average_heart_rate average_bp height_in_cm weight_in_kg  \\\n",
              "0                      66        111          183           70   \n",
              "1                      59        NaN          174           58   \n",
              "2                      79        119          161           56   \n",
              "3                      99        115          171           52   \n",
              "4                      93         89          186           87   \n",
              "...                   ...        ...          ...          ...   \n",
              "104994                 68        109          172           75   \n",
              "104995                 65        112          169           61   \n",
              "104996                NaN        111          165           67   \n",
              "104997                 89        118          179           71   \n",
              "104998                 74        123          167           75   \n",
              "\n",
              "             payment_due_$ last_visit_days_ago visit_duration_mins  \\\n",
              "0        65.45721578126224                 193                  92   \n",
              "1       430.68365678679174                 195                 NaN   \n",
              "2        315.0709305262176                 NaN                  37   \n",
              "3        320.2998987723972                 175                 108   \n",
              "4        264.2147372473319                 188                 113   \n",
              "...                    ...                 ...                 ...   \n",
              "104994   488.0316041186948                 167                  25   \n",
              "104995  309.16444606680665                 183                  10   \n",
              "104996                 NaN                 191                  47   \n",
              "104997   320.8304180033907                 172                  39   \n",
              "104998   5.341231420036174                 180                  79   \n",
              "\n",
              "       number_of_tests prescription_cost_$  \n",
              "0                    5   15.71751735532889  \n",
              "1                    4   80.78647284463952  \n",
              "2                    2    64.3921393009105  \n",
              "3                    2   8.872859215315316  \n",
              "4                    3   77.48311304645532  \n",
              "...                ...                 ...  \n",
              "104994               5   69.54228578689846  \n",
              "104995               3   63.20478776719894  \n",
              "104996               2  113.86764025370326  \n",
              "104997               3  35.622420232475356  \n",
              "104998             NaN   124.4083409893742  \n",
              "\n",
              "[100000 rows x 20 columns]"
            ],
            "text/html": [
              "\n",
              "  <div id=\"df-a4cc39bb-30d9-4ac1-9c8c-6decf0551a5f\" class=\"colab-df-container\">\n",
              "    <div>\n",
              "<style scoped>\n",
              "    .dataframe tbody tr th:only-of-type {\n",
              "        vertical-align: middle;\n",
              "    }\n",
              "\n",
              "    .dataframe tbody tr th {\n",
              "        vertical-align: top;\n",
              "    }\n",
              "\n",
              "    .dataframe thead th {\n",
              "        text-align: right;\n",
              "    }\n",
              "</style>\n",
              "<table border=\"1\" class=\"dataframe\">\n",
              "  <thead>\n",
              "    <tr style=\"text-align: right;\">\n",
              "      <th></th>\n",
              "      <th>patient_age</th>\n",
              "      <th>gender</th>\n",
              "      <th>city_of_residence</th>\n",
              "      <th>state_of_residence</th>\n",
              "      <th>has_insurance</th>\n",
              "      <th>visited_last_month</th>\n",
              "      <th>payment_method</th>\n",
              "      <th>preferred_doctor</th>\n",
              "      <th>disease_diagnosed</th>\n",
              "      <th>medication_prescribed</th>\n",
              "      <th>type_of_appointment</th>\n",
              "      <th>average_heart_rate</th>\n",
              "      <th>average_bp</th>\n",
              "      <th>height_in_cm</th>\n",
              "      <th>weight_in_kg</th>\n",
              "      <th>payment_due_$</th>\n",
              "      <th>last_visit_days_ago</th>\n",
              "      <th>visit_duration_mins</th>\n",
              "      <th>number_of_tests</th>\n",
              "      <th>prescription_cost_$</th>\n",
              "    </tr>\n",
              "  </thead>\n",
              "  <tbody>\n",
              "    <tr>\n",
              "      <th>0</th>\n",
              "      <td>45</td>\n",
              "      <td>Other</td>\n",
              "      <td>West Brian</td>\n",
              "      <td>Kentucky</td>\n",
              "      <td>Yes</td>\n",
              "      <td>Yes</td>\n",
              "      <td>Insurance</td>\n",
              "      <td>Dr. Williams</td>\n",
              "      <td>Flu</td>\n",
              "      <td>Med_E</td>\n",
              "      <td>General</td>\n",
              "      <td>66</td>\n",
              "      <td>111</td>\n",
              "      <td>183</td>\n",
              "      <td>70</td>\n",
              "      <td>65.45721578126224</td>\n",
              "      <td>193</td>\n",
              "      <td>92</td>\n",
              "      <td>5</td>\n",
              "      <td>15.71751735532889</td>\n",
              "    </tr>\n",
              "    <tr>\n",
              "      <th>1</th>\n",
              "      <td>25</td>\n",
              "      <td>Female</td>\n",
              "      <td>East Jocelynfurt</td>\n",
              "      <td>Colorado</td>\n",
              "      <td>No</td>\n",
              "      <td>Yes</td>\n",
              "      <td>Card</td>\n",
              "      <td>Dr. Johnson</td>\n",
              "      <td>Flu</td>\n",
              "      <td>Med_B</td>\n",
              "      <td>Specialist</td>\n",
              "      <td>59</td>\n",
              "      <td>NaN</td>\n",
              "      <td>174</td>\n",
              "      <td>58</td>\n",
              "      <td>430.68365678679174</td>\n",
              "      <td>195</td>\n",
              "      <td>NaN</td>\n",
              "      <td>4</td>\n",
              "      <td>80.78647284463952</td>\n",
              "    </tr>\n",
              "    <tr>\n",
              "      <th>2</th>\n",
              "      <td>51</td>\n",
              "      <td>Other</td>\n",
              "      <td>South Lindseyland</td>\n",
              "      <td>Ohio</td>\n",
              "      <td>Yes</td>\n",
              "      <td>No</td>\n",
              "      <td>Cash</td>\n",
              "      <td>Dr. Williams</td>\n",
              "      <td>Covid-19</td>\n",
              "      <td>Med_D</td>\n",
              "      <td>General</td>\n",
              "      <td>79</td>\n",
              "      <td>119</td>\n",
              "      <td>161</td>\n",
              "      <td>56</td>\n",
              "      <td>315.0709305262176</td>\n",
              "      <td>NaN</td>\n",
              "      <td>37</td>\n",
              "      <td>2</td>\n",
              "      <td>64.3921393009105</td>\n",
              "    </tr>\n",
              "    <tr>\n",
              "      <th>3</th>\n",
              "      <td>18</td>\n",
              "      <td>Female</td>\n",
              "      <td>Taylorfort</td>\n",
              "      <td>Pennsylvania</td>\n",
              "      <td>Yes</td>\n",
              "      <td>NaN</td>\n",
              "      <td>Cash</td>\n",
              "      <td>Dr. Williams</td>\n",
              "      <td>Flu</td>\n",
              "      <td>Med_A</td>\n",
              "      <td>General</td>\n",
              "      <td>99</td>\n",
              "      <td>115</td>\n",
              "      <td>171</td>\n",
              "      <td>52</td>\n",
              "      <td>320.2998987723972</td>\n",
              "      <td>175</td>\n",
              "      <td>108</td>\n",
              "      <td>2</td>\n",
              "      <td>8.872859215315316</td>\n",
              "    </tr>\n",
              "    <tr>\n",
              "      <th>4</th>\n",
              "      <td>48</td>\n",
              "      <td>Female</td>\n",
              "      <td>Birdmouth</td>\n",
              "      <td>Montana</td>\n",
              "      <td>No</td>\n",
              "      <td>No</td>\n",
              "      <td>Insurance</td>\n",
              "      <td>Dr. Brown</td>\n",
              "      <td>None</td>\n",
              "      <td>Med_C</td>\n",
              "      <td>Specialist</td>\n",
              "      <td>93</td>\n",
              "      <td>89</td>\n",
              "      <td>186</td>\n",
              "      <td>87</td>\n",
              "      <td>264.2147372473319</td>\n",
              "      <td>188</td>\n",
              "      <td>113</td>\n",
              "      <td>3</td>\n",
              "      <td>77.48311304645532</td>\n",
              "    </tr>\n",
              "    <tr>\n",
              "      <th>...</th>\n",
              "      <td>...</td>\n",
              "      <td>...</td>\n",
              "      <td>...</td>\n",
              "      <td>...</td>\n",
              "      <td>...</td>\n",
              "      <td>...</td>\n",
              "      <td>...</td>\n",
              "      <td>...</td>\n",
              "      <td>...</td>\n",
              "      <td>...</td>\n",
              "      <td>...</td>\n",
              "      <td>...</td>\n",
              "      <td>...</td>\n",
              "      <td>...</td>\n",
              "      <td>...</td>\n",
              "      <td>...</td>\n",
              "      <td>...</td>\n",
              "      <td>...</td>\n",
              "      <td>...</td>\n",
              "      <td>...</td>\n",
              "    </tr>\n",
              "    <tr>\n",
              "      <th>104994</th>\n",
              "      <td>53</td>\n",
              "      <td>Female</td>\n",
              "      <td>Michelleburgh</td>\n",
              "      <td>South Dakota</td>\n",
              "      <td>No</td>\n",
              "      <td>No</td>\n",
              "      <td>Card</td>\n",
              "      <td>Dr. Williams</td>\n",
              "      <td>Flu</td>\n",
              "      <td>Med_B</td>\n",
              "      <td>Emergency</td>\n",
              "      <td>68</td>\n",
              "      <td>109</td>\n",
              "      <td>172</td>\n",
              "      <td>75</td>\n",
              "      <td>488.0316041186948</td>\n",
              "      <td>167</td>\n",
              "      <td>25</td>\n",
              "      <td>5</td>\n",
              "      <td>69.54228578689846</td>\n",
              "    </tr>\n",
              "    <tr>\n",
              "      <th>104995</th>\n",
              "      <td>74</td>\n",
              "      <td>Other</td>\n",
              "      <td>West Anthony</td>\n",
              "      <td>Oklahoma</td>\n",
              "      <td>Yes</td>\n",
              "      <td>No</td>\n",
              "      <td>Card</td>\n",
              "      <td>Dr. Williams</td>\n",
              "      <td>Covid-19</td>\n",
              "      <td>Med_E</td>\n",
              "      <td>Specialist</td>\n",
              "      <td>65</td>\n",
              "      <td>112</td>\n",
              "      <td>169</td>\n",
              "      <td>61</td>\n",
              "      <td>309.16444606680665</td>\n",
              "      <td>183</td>\n",
              "      <td>10</td>\n",
              "      <td>3</td>\n",
              "      <td>63.20478776719894</td>\n",
              "    </tr>\n",
              "    <tr>\n",
              "      <th>104996</th>\n",
              "      <td>37</td>\n",
              "      <td>Male</td>\n",
              "      <td>Mckeetown</td>\n",
              "      <td>Utah</td>\n",
              "      <td>Yes</td>\n",
              "      <td>No</td>\n",
              "      <td>Cash</td>\n",
              "      <td>Dr. Jones</td>\n",
              "      <td>Covid-19</td>\n",
              "      <td>Med_C</td>\n",
              "      <td>General</td>\n",
              "      <td>NaN</td>\n",
              "      <td>111</td>\n",
              "      <td>165</td>\n",
              "      <td>67</td>\n",
              "      <td>NaN</td>\n",
              "      <td>191</td>\n",
              "      <td>47</td>\n",
              "      <td>2</td>\n",
              "      <td>113.86764025370326</td>\n",
              "    </tr>\n",
              "    <tr>\n",
              "      <th>104997</th>\n",
              "      <td>51</td>\n",
              "      <td>Female</td>\n",
              "      <td>Lake Lisachester</td>\n",
              "      <td>Nebraska</td>\n",
              "      <td>Yes</td>\n",
              "      <td>Yes</td>\n",
              "      <td>Insurance</td>\n",
              "      <td>Dr. Williams</td>\n",
              "      <td>Allergy</td>\n",
              "      <td>Med_D</td>\n",
              "      <td>Follow-Up</td>\n",
              "      <td>89</td>\n",
              "      <td>118</td>\n",
              "      <td>179</td>\n",
              "      <td>71</td>\n",
              "      <td>320.8304180033907</td>\n",
              "      <td>172</td>\n",
              "      <td>39</td>\n",
              "      <td>3</td>\n",
              "      <td>35.622420232475356</td>\n",
              "    </tr>\n",
              "    <tr>\n",
              "      <th>104998</th>\n",
              "      <td>NaN</td>\n",
              "      <td>Female</td>\n",
              "      <td>Heidiborough</td>\n",
              "      <td>NaN</td>\n",
              "      <td>Yes</td>\n",
              "      <td>No</td>\n",
              "      <td>Cash</td>\n",
              "      <td>Dr. Smith</td>\n",
              "      <td>Covid-19</td>\n",
              "      <td>Med_A</td>\n",
              "      <td>Follow-Up</td>\n",
              "      <td>74</td>\n",
              "      <td>123</td>\n",
              "      <td>167</td>\n",
              "      <td>75</td>\n",
              "      <td>5.341231420036174</td>\n",
              "      <td>180</td>\n",
              "      <td>79</td>\n",
              "      <td>NaN</td>\n",
              "      <td>124.4083409893742</td>\n",
              "    </tr>\n",
              "  </tbody>\n",
              "</table>\n",
              "<p>100000 rows × 20 columns</p>\n",
              "</div>\n",
              "    <div class=\"colab-df-buttons\">\n",
              "\n",
              "  <div class=\"colab-df-container\">\n",
              "    <button class=\"colab-df-convert\" onclick=\"convertToInteractive('df-a4cc39bb-30d9-4ac1-9c8c-6decf0551a5f')\"\n",
              "            title=\"Convert this dataframe to an interactive table.\"\n",
              "            style=\"display:none;\">\n",
              "\n",
              "  <svg xmlns=\"http://www.w3.org/2000/svg\" height=\"24px\" viewBox=\"0 -960 960 960\">\n",
              "    <path d=\"M120-120v-720h720v720H120Zm60-500h600v-160H180v160Zm220 220h160v-160H400v160Zm0 220h160v-160H400v160ZM180-400h160v-160H180v160Zm440 0h160v-160H620v160ZM180-180h160v-160H180v160Zm440 0h160v-160H620v160Z\"/>\n",
              "  </svg>\n",
              "    </button>\n",
              "\n",
              "  <style>\n",
              "    .colab-df-container {\n",
              "      display:flex;\n",
              "      gap: 12px;\n",
              "    }\n",
              "\n",
              "    .colab-df-convert {\n",
              "      background-color: #E8F0FE;\n",
              "      border: none;\n",
              "      border-radius: 50%;\n",
              "      cursor: pointer;\n",
              "      display: none;\n",
              "      fill: #1967D2;\n",
              "      height: 32px;\n",
              "      padding: 0 0 0 0;\n",
              "      width: 32px;\n",
              "    }\n",
              "\n",
              "    .colab-df-convert:hover {\n",
              "      background-color: #E2EBFA;\n",
              "      box-shadow: 0px 1px 2px rgba(60, 64, 67, 0.3), 0px 1px 3px 1px rgba(60, 64, 67, 0.15);\n",
              "      fill: #174EA6;\n",
              "    }\n",
              "\n",
              "    .colab-df-buttons div {\n",
              "      margin-bottom: 4px;\n",
              "    }\n",
              "\n",
              "    [theme=dark] .colab-df-convert {\n",
              "      background-color: #3B4455;\n",
              "      fill: #D2E3FC;\n",
              "    }\n",
              "\n",
              "    [theme=dark] .colab-df-convert:hover {\n",
              "      background-color: #434B5C;\n",
              "      box-shadow: 0px 1px 3px 1px rgba(0, 0, 0, 0.15);\n",
              "      filter: drop-shadow(0px 1px 2px rgba(0, 0, 0, 0.3));\n",
              "      fill: #FFFFFF;\n",
              "    }\n",
              "  </style>\n",
              "\n",
              "    <script>\n",
              "      const buttonEl =\n",
              "        document.querySelector('#df-a4cc39bb-30d9-4ac1-9c8c-6decf0551a5f button.colab-df-convert');\n",
              "      buttonEl.style.display =\n",
              "        google.colab.kernel.accessAllowed ? 'block' : 'none';\n",
              "\n",
              "      async function convertToInteractive(key) {\n",
              "        const element = document.querySelector('#df-a4cc39bb-30d9-4ac1-9c8c-6decf0551a5f');\n",
              "        const dataTable =\n",
              "          await google.colab.kernel.invokeFunction('convertToInteractive',\n",
              "                                                    [key], {});\n",
              "        if (!dataTable) return;\n",
              "\n",
              "        const docLinkHtml = 'Like what you see? Visit the ' +\n",
              "          '<a target=\"_blank\" href=https://colab.research.google.com/notebooks/data_table.ipynb>data table notebook</a>'\n",
              "          + ' to learn more about interactive tables.';\n",
              "        element.innerHTML = '';\n",
              "        dataTable['output_type'] = 'display_data';\n",
              "        await google.colab.output.renderOutput(dataTable, element);\n",
              "        const docLink = document.createElement('div');\n",
              "        docLink.innerHTML = docLinkHtml;\n",
              "        element.appendChild(docLink);\n",
              "      }\n",
              "    </script>\n",
              "  </div>\n",
              "\n",
              "\n",
              "<div id=\"df-95c4aeb2-a28c-4f07-b478-03fd919213f7\">\n",
              "  <button class=\"colab-df-quickchart\" onclick=\"quickchart('df-95c4aeb2-a28c-4f07-b478-03fd919213f7')\"\n",
              "            title=\"Suggest charts.\"\n",
              "            style=\"display:none;\">\n",
              "\n",
              "<svg xmlns=\"http://www.w3.org/2000/svg\" height=\"24px\"viewBox=\"0 0 24 24\"\n",
              "     width=\"24px\">\n",
              "    <g>\n",
              "        <path d=\"M19 3H5c-1.1 0-2 .9-2 2v14c0 1.1.9 2 2 2h14c1.1 0 2-.9 2-2V5c0-1.1-.9-2-2-2zM9 17H7v-7h2v7zm4 0h-2V7h2v10zm4 0h-2v-4h2v4z\"/>\n",
              "    </g>\n",
              "</svg>\n",
              "  </button>\n",
              "\n",
              "<style>\n",
              "  .colab-df-quickchart {\n",
              "      --bg-color: #E8F0FE;\n",
              "      --fill-color: #1967D2;\n",
              "      --hover-bg-color: #E2EBFA;\n",
              "      --hover-fill-color: #174EA6;\n",
              "      --disabled-fill-color: #AAA;\n",
              "      --disabled-bg-color: #DDD;\n",
              "  }\n",
              "\n",
              "  [theme=dark] .colab-df-quickchart {\n",
              "      --bg-color: #3B4455;\n",
              "      --fill-color: #D2E3FC;\n",
              "      --hover-bg-color: #434B5C;\n",
              "      --hover-fill-color: #FFFFFF;\n",
              "      --disabled-bg-color: #3B4455;\n",
              "      --disabled-fill-color: #666;\n",
              "  }\n",
              "\n",
              "  .colab-df-quickchart {\n",
              "    background-color: var(--bg-color);\n",
              "    border: none;\n",
              "    border-radius: 50%;\n",
              "    cursor: pointer;\n",
              "    display: none;\n",
              "    fill: var(--fill-color);\n",
              "    height: 32px;\n",
              "    padding: 0;\n",
              "    width: 32px;\n",
              "  }\n",
              "\n",
              "  .colab-df-quickchart:hover {\n",
              "    background-color: var(--hover-bg-color);\n",
              "    box-shadow: 0 1px 2px rgba(60, 64, 67, 0.3), 0 1px 3px 1px rgba(60, 64, 67, 0.15);\n",
              "    fill: var(--button-hover-fill-color);\n",
              "  }\n",
              "\n",
              "  .colab-df-quickchart-complete:disabled,\n",
              "  .colab-df-quickchart-complete:disabled:hover {\n",
              "    background-color: var(--disabled-bg-color);\n",
              "    fill: var(--disabled-fill-color);\n",
              "    box-shadow: none;\n",
              "  }\n",
              "\n",
              "  .colab-df-spinner {\n",
              "    border: 2px solid var(--fill-color);\n",
              "    border-color: transparent;\n",
              "    border-bottom-color: var(--fill-color);\n",
              "    animation:\n",
              "      spin 1s steps(1) infinite;\n",
              "  }\n",
              "\n",
              "  @keyframes spin {\n",
              "    0% {\n",
              "      border-color: transparent;\n",
              "      border-bottom-color: var(--fill-color);\n",
              "      border-left-color: var(--fill-color);\n",
              "    }\n",
              "    20% {\n",
              "      border-color: transparent;\n",
              "      border-left-color: var(--fill-color);\n",
              "      border-top-color: var(--fill-color);\n",
              "    }\n",
              "    30% {\n",
              "      border-color: transparent;\n",
              "      border-left-color: var(--fill-color);\n",
              "      border-top-color: var(--fill-color);\n",
              "      border-right-color: var(--fill-color);\n",
              "    }\n",
              "    40% {\n",
              "      border-color: transparent;\n",
              "      border-right-color: var(--fill-color);\n",
              "      border-top-color: var(--fill-color);\n",
              "    }\n",
              "    60% {\n",
              "      border-color: transparent;\n",
              "      border-right-color: var(--fill-color);\n",
              "    }\n",
              "    80% {\n",
              "      border-color: transparent;\n",
              "      border-right-color: var(--fill-color);\n",
              "      border-bottom-color: var(--fill-color);\n",
              "    }\n",
              "    90% {\n",
              "      border-color: transparent;\n",
              "      border-bottom-color: var(--fill-color);\n",
              "    }\n",
              "  }\n",
              "</style>\n",
              "\n",
              "  <script>\n",
              "    async function quickchart(key) {\n",
              "      const quickchartButtonEl =\n",
              "        document.querySelector('#' + key + ' button');\n",
              "      quickchartButtonEl.disabled = true;  // To prevent multiple clicks.\n",
              "      quickchartButtonEl.classList.add('colab-df-spinner');\n",
              "      try {\n",
              "        const charts = await google.colab.kernel.invokeFunction(\n",
              "            'suggestCharts', [key], {});\n",
              "      } catch (error) {\n",
              "        console.error('Error during call to suggestCharts:', error);\n",
              "      }\n",
              "      quickchartButtonEl.classList.remove('colab-df-spinner');\n",
              "      quickchartButtonEl.classList.add('colab-df-quickchart-complete');\n",
              "    }\n",
              "    (() => {\n",
              "      let quickchartButtonEl =\n",
              "        document.querySelector('#df-95c4aeb2-a28c-4f07-b478-03fd919213f7 button');\n",
              "      quickchartButtonEl.style.display =\n",
              "        google.colab.kernel.accessAllowed ? 'block' : 'none';\n",
              "    })();\n",
              "  </script>\n",
              "</div>\n",
              "    </div>\n",
              "  </div>\n"
            ]
          },
          "metadata": {},
          "execution_count": 280
        }
      ]
    },
    {
      "cell_type": "markdown",
      "source": [
        "#### **Summary of Changes**\n",
        "The columns names in the dataset are changed to lowercase and spaces replaced with an underscore. Missing values were originally filled with the value 'missing' which were then changed to 'NaN'. Lastly duplicate rows were removed."
      ],
      "metadata": {
        "id": "GOQkSC94gCQh"
      }
    },
    {
      "cell_type": "markdown",
      "source": [
        "**____________________________________________________________________________**"
      ],
      "metadata": {
        "id": "l8hB0l4CgK11"
      }
    },
    {
      "cell_type": "markdown",
      "source": [
        "## **Data Transformation**"
      ],
      "metadata": {
        "id": "lprPfA-dp8QJ"
      }
    },
    {
      "cell_type": "markdown",
      "source": [
        "### Creating New Columns"
      ],
      "metadata": {
        "id": "67l0FIkygYXZ"
      }
    },
    {
      "cell_type": "code",
      "source": [],
      "metadata": {
        "id": "0eJSqQToouNu"
      },
      "execution_count": null,
      "outputs": []
    },
    {
      "cell_type": "markdown",
      "source": [
        "### Aggregating Data"
      ],
      "metadata": {
        "id": "rKSovBXTgbXW"
      }
    },
    {
      "cell_type": "code",
      "source": [
        "# Counts the number of patients with or without insurance\n",
        "df['has_insurance'].value_counts()"
      ],
      "metadata": {
        "colab": {
          "base_uri": "https://localhost:8080/"
        },
        "id": "x6oDqXjeeZua",
        "outputId": "440d793d-1a92-4bb1-a505-db44ecb21bb1"
      },
      "execution_count": 249,
      "outputs": [
        {
          "output_type": "execute_result",
          "data": {
            "text/plain": [
              "Yes    47597\n",
              "No     47403\n",
              "Name: has_insurance, dtype: int64"
            ]
          },
          "metadata": {},
          "execution_count": 249
        }
      ]
    },
    {
      "cell_type": "code",
      "source": [
        "# Counts the number of patients in each state\n",
        "df['state_of_residence'].value_counts()"
      ],
      "metadata": {
        "id": "v5ryz38Mgf6e",
        "colab": {
          "base_uri": "https://localhost:8080/"
        },
        "outputId": "bb496ca6-5dce-4af9-a33c-194d276c3ac1"
      },
      "execution_count": 248,
      "outputs": [
        {
          "output_type": "execute_result",
          "data": {
            "text/plain": [
              "New Mexico        1969\n",
              "Nevada            1969\n",
              "Idaho             1965\n",
              "Massachusetts     1959\n",
              "California        1952\n",
              "Ohio              1950\n",
              "Connecticut       1950\n",
              "Kentucky          1946\n",
              "North Carolina    1944\n",
              "New Jersey        1932\n",
              "Alaska            1927\n",
              "Wisconsin         1926\n",
              "Nebraska          1922\n",
              "Rhode Island      1918\n",
              "Minnesota         1918\n",
              "Wyoming           1917\n",
              "West Virginia     1916\n",
              "Arizona           1915\n",
              "Tennessee         1914\n",
              "South Carolina    1912\n",
              "Virginia          1911\n",
              "North Dakota      1911\n",
              "Utah              1910\n",
              "Kansas            1909\n",
              "Pennsylvania      1908\n",
              "Missouri          1906\n",
              "Iowa              1906\n",
              "Montana           1904\n",
              "Mississippi       1897\n",
              "Florida           1893\n",
              "Louisiana         1893\n",
              "New York          1891\n",
              "Illinois          1891\n",
              "Oregon            1888\n",
              "Indiana           1886\n",
              "Vermont           1885\n",
              "Oklahoma          1876\n",
              "Texas             1876\n",
              "Alabama           1875\n",
              "Michigan          1863\n",
              "Georgia           1862\n",
              "Colorado          1859\n",
              "Delaware          1859\n",
              "Hawaii            1857\n",
              "Maryland          1853\n",
              "Arkansas          1842\n",
              "Washington        1835\n",
              "New Hampshire     1826\n",
              "South Dakota      1812\n",
              "Maine             1795\n",
              "Name: state_of_residence, dtype: int64"
            ]
          },
          "metadata": {},
          "execution_count": 248
        }
      ]
    },
    {
      "cell_type": "markdown",
      "source": [
        "### Multi-dimensional Analysis"
      ],
      "metadata": {
        "id": "qXVMhKLVggCh"
      }
    },
    {
      "cell_type": "code",
      "source": [],
      "metadata": {
        "id": "FdQdMfsfgnoi"
      },
      "execution_count": null,
      "outputs": []
    },
    {
      "cell_type": "markdown",
      "source": [
        "#### **Summary of Changes**"
      ],
      "metadata": {
        "id": "LpF6H6nrIAOH"
      }
    },
    {
      "cell_type": "markdown",
      "source": [
        "**____________________________________________________________________________**"
      ],
      "metadata": {
        "id": "weKER4BQgn5R"
      }
    },
    {
      "cell_type": "markdown",
      "source": [
        "## **Introduction to Alternative Libraries**"
      ],
      "metadata": {
        "id": "sgI8XmsYp-8W"
      }
    },
    {
      "cell_type": "code",
      "source": [],
      "metadata": {
        "id": "BE0AfwjDqFCJ"
      },
      "execution_count": null,
      "outputs": []
    },
    {
      "cell_type": "markdown",
      "source": [
        "### Converting Data Types"
      ],
      "metadata": {
        "id": "bf7JjJwhizgw"
      }
    },
    {
      "cell_type": "code",
      "source": [
        "# Convert data types\n",
        "converted_df = {\n",
        "    'patient_age': int,\n",
        "    'gender': str,\n",
        "    'city_of_residence': str,\n",
        "    'state_of_residence': str,\n",
        "    'has_insurance': str,\n",
        "    'visited_last_month': str,\n",
        "    'payment_method': str,\n",
        "    'preferred_doctor': str,\n",
        "    'disease_diagnosed': str,\n",
        "    'medication_prescribed': str,\n",
        "    'type_of_appointment': str,\n",
        "    'average_heart_rate': int,\n",
        "    'average_bp': int,\n",
        "    'height_in_cm': int,\n",
        "    'weight_in_kg': float,\n",
        "    'payment_due_$': float,\n",
        "    'last_visit_days_ago': int,\n",
        "    'visit_duration_mins': int,\n",
        "    'number_of_tests': int,\n",
        "    'prescription_cost_$': float\n",
        "}\n",
        "df = converted_df\n",
        "df"
      ],
      "metadata": {
        "colab": {
          "base_uri": "https://localhost:8080/"
        },
        "id": "doq9vIOxjJka",
        "outputId": "26aa595b-466a-4c98-c636-3f3ad0c906f9"
      },
      "execution_count": 258,
      "outputs": [
        {
          "output_type": "execute_result",
          "data": {
            "text/plain": [
              "{'patient_age': int,\n",
              " 'gender': str,\n",
              " 'city_of_residence': str,\n",
              " 'state_of_residence': str,\n",
              " 'has_insurance': str,\n",
              " 'visited_last_month': str,\n",
              " 'payment_method': str,\n",
              " 'preferred_doctor': str,\n",
              " 'disease_diagnosed': str,\n",
              " 'medication_prescribed': str,\n",
              " 'type_of_appointment': str,\n",
              " 'average_heart_rate': int,\n",
              " 'average_bp': int,\n",
              " 'height_in_cm': int,\n",
              " 'weight_in_kg': float,\n",
              " 'payment_due_$': float,\n",
              " 'last_visit_days_ago': int,\n",
              " 'visit_duration_mins': int,\n",
              " 'number_of_tests': int,\n",
              " 'prescription_cost_$': float}"
            ]
          },
          "metadata": {},
          "execution_count": 258
        }
      ]
    }
  ]
}